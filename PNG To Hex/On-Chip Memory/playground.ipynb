{
 "cells": [
  {
   "cell_type": "code",
   "execution_count": 1,
   "metadata": {},
   "outputs": [],
   "source": [
    "def hex_to_rgb(num):\n",
    "    h = str(num)\n",
    "    return int(h[0:4], 16), int(('0x' + h[4:6]), 16), int(('0x' + h[6:8]), 16)"
   ]
  },
  {
   "cell_type": "code",
   "execution_count": 2,
   "metadata": {},
   "outputs": [],
   "source": [
    "palette_hex = ['0x233333','0x976645', '0x774524', '0xDBAA89', '0x8987B8', '0xACAADB', '0xCCCDFD', '0xCBCBCB']\n",
    "palette_rgb = [hex_to_rgb(color) for color in palette_hex]"
   ]
  },
  {
   "cell_type": "code",
   "execution_count": 5,
   "metadata": {},
   "outputs": [
    {
     "name": "stdout",
     "output_type": "stream",
     "text": [
      "{\"color0\", 0x2, 0x3, 0x3},\n",
      "{\"color1\", 0x9, 0x6, 0x4},\n",
      "{\"color2\", 0x7, 0x4, 0x2},\n",
      "{\"color3\", 0xD, 0xA, 0x8},\n",
      "{\"color4\", 0x8, 0x8, 0xB},\n",
      "{\"color5\", 0xA, 0xA, 0xD},\n",
      "{\"color6\", 0xC, 0xC, 0xF},\n",
      "{\"color7\", 0xC, 0xC, 0xC},\n"
     ]
    }
   ],
   "source": [
    "for idx, hex in enumerate(palette_hex):\n",
    "    print(f'{{\"color{idx}\", 0x{hex[2]}, 0x{hex[4]}, 0x{hex[6]}}},')"
   ]
  },
  {
   "cell_type": "code",
   "execution_count": null,
   "metadata": {},
   "outputs": [],
   "source": []
  }
 ],
 "metadata": {
  "kernelspec": {
   "display_name": "Python 3.9.12 ('base')",
   "language": "python",
   "name": "python3"
  },
  "language_info": {
   "codemirror_mode": {
    "name": "ipython",
    "version": 3
   },
   "file_extension": ".py",
   "mimetype": "text/x-python",
   "name": "python",
   "nbconvert_exporter": "python",
   "pygments_lexer": "ipython3",
   "version": "3.9.12"
  },
  "orig_nbformat": 4,
  "vscode": {
   "interpreter": {
    "hash": "ef62faaf847ff6ebd5c3e56a5d88482579eedbe5b02899db8aac21ada9cb59ed"
   }
  }
 },
 "nbformat": 4,
 "nbformat_minor": 2
}
